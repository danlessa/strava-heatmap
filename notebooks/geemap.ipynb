{
 "cells": [
  {
   "cell_type": "markdown",
   "id": "ef96b983-39e4-4e12-96ae-7bc4529a05f2",
   "metadata": {},
   "source": [
    "# Converting downloaded PNG files to TIFF\n",
    "\n",
    "Forked from https://jimmyutterstrom.com/blog/2019/06/05/map-tiles-to-geotiff/"
   ]
  },
  {
   "cell_type": "code",
   "execution_count": 6,
   "id": "0ec58f91-a7ec-4ad4-ba54-c0181d717fb0",
   "metadata": {},
   "outputs": [
    {
     "data": {
      "application/vnd.jupyter.widget-view+json": {
       "model_id": "e5714b305af34396a4cbb87461148f04",
       "version_major": 2,
       "version_minor": 0
      },
      "text/plain": [
       "Map(center=[-23.5, -46.6], controls=(ZoomControl(options=['position', 'zoom_in_text', 'zoom_in_title', 'zoom_o…"
      ]
     },
     "metadata": {},
     "output_type": "display_data"
    }
   ],
   "source": [
    "import geemap\n",
    "from ipyleaflet import Map, basemaps, WidgetControl\n",
    "import ee\n",
    "from ipywidgets import IntSlider\n",
    "\n",
    "                 \n",
    "Map = geemap.Map(center=(-23.5, -46.6), zoom=10)\n",
    "Map.setOptions(\"HYBRID\")\n",
    "\n",
    "density_vis = {\"max\":1000,\"palette\":[\"ffffe7\",\"FFc869\",\"ffac1d\",\"e17735\",\"f2552c\",\"9f0c21\"],\"min\":0, \"opacity\": 0.9}\n",
    "slope_vis = {\"min\":0,\"max\":15, \"opacity\": 1.0}\n",
    "elevation_vis = {\"min\":700,\"max\":1200,\"palette\":[\"0000ff\",\"00ffff\",\"ffff00\",\"ff0000\",\"ffffff\"], \"opacity\": 1.0}\n",
    "\n",
    "dataset = ee.ImageCollection(\"CIESIN/GPWv411/GPW_UNWPP-Adjusted_Population_Density\").first();\n",
    "raster = dataset.select('unwpp-adjusted_population_density');\n",
    "Map.addLayer(raster, density_vis, 'unwpp-adjusted_population_density', False, 1.0);\n",
    "\n",
    "dsm_dataset = ee.ImageCollection(\"JAXA/ALOS/AW3D30/V3_2\")\n",
    "elevation = dsm_dataset.select('DSM');\n",
    "Map.addLayer(elevation, elevation_vis, 'Elevation', True, 0.7);        \n",
    "\n",
    "# // Reproject an image mosaic using a projection from one of the image tiles,\n",
    "# // rather than using the default projection returned by .mosaic().\n",
    "proj = elevation.first().select(0).projection();\n",
    "slopeReprojected = ee.Terrain.slope(elevation.mosaic()\n",
    "                             .setDefaultProjection(proj));\n",
    "Map.add_basemap('Strava.All')               \n",
    "Map.addLayer(slopeReprojected, slope_vis, 'Slope', True, 0.3);\n",
    "\n",
    "    \n",
    "\n",
    "min_ele_slider = IntSlider(description='Minimum elevation:', min=0, max=5000, value=650)\n",
    "widget_control1 = WidgetControl(widget=min_ele_slider, position='topright')\n",
    "Map.add_control(widget_control1)\n",
    "\n",
    "max_ele_slider = IntSlider(description='Maximum elevation:', min=0, max=5000, value=1250)\n",
    "widget_control2 = WidgetControl(widget=max_ele_slider, position='topright')\n",
    "Map.add_control(widget_control2)\n",
    "\n",
    "max_slope_slider = IntSlider(description='Maximum slope:', min=0, max=30, value=15)\n",
    "widget_control3 = WidgetControl(widget=max_slope_slider, position='topright')\n",
    "Map.add_control(widget_control3)\n",
    "\n",
    "\n",
    "Map"
   ]
  },
  {
   "cell_type": "code",
   "execution_count": null,
   "id": "342643ab-6bb7-4e51-aef6-8cb30daad4a1",
   "metadata": {},
   "outputs": [],
   "source": []
  }
 ],
 "metadata": {
  "interpreter": {
   "hash": "e7cb1b9ae4d417fedf7f40a8eec98f7cfbd359e096bd857395a915f4609834ce"
  },
  "kernelspec": {
   "display_name": "Python 3 (ipykernel)",
   "language": "python",
   "name": "python3"
  },
  "language_info": {
   "codemirror_mode": {
    "name": "ipython",
    "version": 3
   },
   "file_extension": ".py",
   "mimetype": "text/x-python",
   "name": "python",
   "nbconvert_exporter": "python",
   "pygments_lexer": "ipython3",
   "version": "3.9.5"
  }
 },
 "nbformat": 4,
 "nbformat_minor": 5
}
